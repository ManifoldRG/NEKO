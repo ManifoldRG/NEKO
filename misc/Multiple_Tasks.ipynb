{
  "cells": [
    {
      "cell_type": "markdown",
      "metadata": {
        "id": "DFw6Z4vos4Di"
      },
      "source": [
        "This is a Notebook to test VQA task"
      ]
    },
    {
      "cell_type": "code",
      "execution_count": 1,
      "metadata": {
        "colab": {
          "base_uri": "https://localhost:8080/"
        },
        "id": "8jRDUexEPkWm",
        "outputId": "3f1138f7-a6ee-4e63-ecda-1f6ce7d7bdb1"
      },
      "outputs": [
        {
          "output_type": "stream",
          "name": "stdout",
          "text": [
            "Mounted at /content/drive/\n"
          ]
        }
      ],
      "source": [
        "from google.colab import drive\n",
        "drive.mount('/content/drive/')"
      ]
    },
    {
      "cell_type": "code",
      "execution_count": 2,
      "metadata": {
        "colab": {
          "base_uri": "https://localhost:8080/"
        },
        "id": "tFsNeHC7joFl",
        "outputId": "b7b8e317-9522-4706-8b5c-3ff6ecb99250"
      },
      "outputs": [
        {
          "output_type": "stream",
          "name": "stdout",
          "text": [
            "Caption_Data\t docker   eval.py  LICENSE  README.md  train.py\n",
            "CONTRIBUTING.md  env.yml  gato\t   misc     setup.py   VQA_Data\n",
            "/content/drive/My Drive/NEKO\n"
          ]
        }
      ],
      "source": [
        "# If the most up to date code is not in the repo yet, assuming you have copied them to a folder named \"NEKO\" on your\n",
        "# google drive, use the following to include them. If the up to date code is in the repo alaready, you should\n",
        "# comment out the following, and use git clone to get access to the code instead\n",
        "#import os\n",
        "#os.chdir(\"/content/drive/My Drive/NEKO\")\n",
        "#!ls\n",
        "#!pwd"
      ]
    },
    {
      "cell_type": "code",
      "execution_count": 3,
      "metadata": {
        "id": "Idsg4jn2uPz5"
      },
      "outputs": [],
      "source": [
        "# The following is assuming the up to date code is in the repo already, and also assume it is under the branch add_image_caption\n",
        "# you should then clone the repo as below (assume a folder NEKO-Clone on google drive), and use that folder as the code for test.\n",
        "# Note: if the code has been merged to the master branch, then the clone command needs to be adjusted accordingly\n",
        "# If you encounter issues like \"NEKO-Clone already exists\", remove \"NEKO-Clone\" folder from your drive, and restart the Runtime\n",
        "!git clone -b add_vqa https://github.com/ManifoldRG/NEKO.git \"/content/drive/My Drive/NEKO-Clone\"\n",
        "import os\n",
        "os.chdir(\"/content/drive/My Drive/NEKO-Clone\")"
      ]
    },
    {
      "cell_type": "code",
      "execution_count": null,
      "metadata": {
        "id": "3glvG4Zpnhmd"
      },
      "outputs": [],
      "source": [
        "!pip install wandb\n",
        "!pip install peft\n",
        "!pip install einops\n",
        "!pip install gymnasium\n",
        "!pip install minari\n",
        "!pip install datasets\n",
        "!pip install webdataset"
      ]
    },
    {
      "cell_type": "code",
      "execution_count": 5,
      "metadata": {
        "id": "Y-IeWxwfDx4j"
      },
      "outputs": [],
      "source": [
        "# This is only needed if you need to switch to a different wandb account\n",
        "#!wandb login --relogin"
      ]
    },
    {
      "cell_type": "code",
      "execution_count": null,
      "metadata": {
        "id": "Q_G9C19ck_n3"
      },
      "outputs": [],
      "source": [
        "# In the following, you can revise the options as needed\n",
        "# Assume your dataset is under the folder '/content/drive/My Drive/NEKO/VQA_Data' your drive\n",
        "\n",
        "!python train.py --use_wandb --embed_dim=768 --layers=6 --heads=24 --training_steps=1000 --log_eval_freq=10 --warmup_steps=20 --batch_size=4 --sequence_length=1024 --eval_episodes=10 --activation_fn=gelu --disable_cosine_decay --eval_text_log_examples --text_prop=0.4 --caption_prop 0.3 --vqa_prop 0.3 --text_datasets=wikitext-2-v1 --text_datasets_paths=wikitext --caption_dataset=\"/content/drive/My Drive/NEKO/Caption_Data\" --caption_train_data=train --caption_test_data=test --vqa_dataset='/content/drive/My Drive/NEKO/VQA_Data/' --vqa_train_data=train2014 --vqa_test_data=val2014 --train_img_name_prefix=COCO_train2014_ --train_img_file_name_len=27 --test_img_name_prefix=COCO_val2014_ --test_img_file_name_len=25"
      ]
    },
    {
      "cell_type": "markdown",
      "metadata": {
        "id": "Jq2XrtiJknBO"
      },
      "source": []
    }
  ],
  "metadata": {
    "accelerator": "GPU",
    "colab": {
      "provenance": []
    },
    "kernelspec": {
      "display_name": "Python 3",
      "name": "python3"
    },
    "language_info": {
      "name": "python"
    }
  },
  "nbformat": 4,
  "nbformat_minor": 0
}
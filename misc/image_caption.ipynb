{
  "cells": [
    {
      "cell_type": "markdown",
      "metadata": {
        "id": "DFw6Z4vos4Di"
      },
      "source": [
        "This is a Notebook to test image-caption task"
      ]
    },
    {
      "cell_type": "code",
      "execution_count": null,
      "metadata": {
        "id": "8jRDUexEPkWm"
      },
      "outputs": [],
      "source": [
        "from google.colab import drive\n",
        "drive.mount('/content/drive/')"
      ]
    },
    {
      "cell_type": "code",
      "execution_count": null,
      "metadata": {
        "id": "tFsNeHC7joFl"
      },
      "outputs": [],
      "source": [
        "# If the most up to date code is not in the repo yet, assuming you have copied them to a folder named \"NEKO\" on your\n",
        "# google drive, use the following to include them. If the up to date code is in the repo alaready, you should\n",
        "# comment out the following, and use git clone to get access to the code instead\n",
        "#import os\n",
        "#os.chdir(\"/content/drive/My Drive/NEKO\")\n",
        "#!ls\n",
        "#!pwd"
      ]
    },
    {
      "cell_type": "code",
      "execution_count": null,
      "metadata": {
        "id": "Idsg4jn2uPz5"
      },
      "outputs": [],
      "source": [
        "# The following is assuming the up to date code is in the repo already, and also assume it is under the branch add_image_caption\n",
        "# you should then clone the repo as below (assume a folder NEKO-Clone on google drive), and use that folder as the code for test.\n",
        "# Note: if the code has been merged to the master branch, then the clone command needs to be adjusted accordingly\n",
        "# If you encounter issues like \"NEKO-Clone already exists\", remove \"NEKO-Clone\" folder from your drive, and restart the Runtime\n",
        "!git clone -b add_image_caption https://github.com/ManifoldRG/NEKO.git \"/content/drive/My Drive/NEKO-Clone\"\n",
        "import os\n",
        "os.chdir(\"/content/drive/My Drive/NEKO-Clone\")"
      ]
    },
    {
      "cell_type": "code",
      "execution_count": null,
      "metadata": {
        "id": "3glvG4Zpnhmd"
      },
      "outputs": [],
      "source": [
        "!pip install wandb\n",
        "!pip install peft\n",
        "!pip install einops\n",
        "!pip install gymnasium\n",
        "!pip install minari\n",
        "!pip install datasets\n",
        "!pip install webdataset"
      ]
    },
    {
      "cell_type": "code",
      "execution_count": null,
      "metadata": {
        "id": "Y-IeWxwfDx4j"
      },
      "outputs": [],
      "source": [
        "# This is only needed if you need to switch to a different wandb account\n",
        "#!wandb login --relogin"
      ]
    },
    {
      "cell_type": "code",
      "execution_count": null,
      "metadata": {
        "id": "Q_G9C19ck_n3"
      },
      "outputs": [],
      "source": [
        "# In the following, you can revise the options as needed\n",
        "# Assume your dataset is under the folder \"/content/drive/My Drive/NEKO/Dataset\" your drive, they are .tar files thta contining the data\n",
        "# Here is a a URL of the files https://drive.google.com/drive/folders/1jH3j0npuM9mg23fI3S-fuMNlF9OFqr1M?usp=sharing\n",
        "# You can upload these .tar files to the designated folder on your google drive, and then run the following for test\n",
        "!python train.py --embed_dim=768 --layers=6 --heads=24 --training_steps=1000 --log_eval_freq=10 --use_wandb --warmup_steps=10 --batch_size=4 -k=240 --eval_episodes=10 --sequence_length=1024 --activation_fn=gelu --save_model --caption_prop 1.0 --caption_datasets=\"/content/drive/My Drive/NEKO/Dataset\""
      ]
    }
  ],
  "metadata": {
    "accelerator": "GPU",
    "colab": {
      "provenance": []
    },
    "kernelspec": {
      "display_name": "Python 3",
      "name": "python3"
    },
    "language_info": {
      "name": "python"
    }
  },
  "nbformat": 4,
  "nbformat_minor": 0
}